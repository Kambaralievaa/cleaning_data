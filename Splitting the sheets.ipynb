{
 "cells": [
  {
   "cell_type": "code",
   "execution_count": null,
   "id": "565499c3-1d81-496d-ace8-ac85df7a8242",
   "metadata": {},
   "outputs": [],
   "source": [
    "import pandas as pd\n",
    "\n",
    "# Загружаем исходный Excel с несколькими листами\n",
    "excel_file = \"path\"  \n",
    "\n",
    "\n",
    "sheets = pd.read_excel(excel_file, sheet_name=None)\n",
    "\n",
    "# Проходим по всем листам и сохраняем их отдельно\n",
    "for sheet_name, df in sheets.items():\n",
    "    output_file = f\"{sheet_name}.xlsx\"  # имя файла по названию листа\n",
    "    df.to_excel(output_file, index=False)\n",
    "    print(f\"✅ Сохранен: {output_file}\")\n"
   ]
  },
  {
   "cell_type": "code",
   "execution_count": 1,
   "id": "a26b9910-74f7-4a7a-a0c0-35d21234399f",
   "metadata": {},
   "outputs": [],
   "source": [
    "import pandas as pd"
   ]
  },
  {
   "cell_type": "code",
   "execution_count": 2,
   "id": "7393e950-3dd5-414e-a37e-d0e3c56483ac",
   "metadata": {},
   "outputs": [],
   "source": [
    "excel_file = \"path\""
   ]
  },
  {
   "cell_type": "code",
   "execution_count": 3,
   "id": "87b14778-0be2-45b4-a6d7-eee27fd10626",
   "metadata": {},
   "outputs": [
    {
     "name": "stdout",
     "output_type": "stream",
     "text": [
      "✅ Сохранен: январь 2022.xlsx\n"
    
     ]
    }
   ],
   "source": [
    "sheets = pd.read_excel(excel_file, sheet_name=None)\n",
    "\n",
    "# Проходим по всем листам и сохраняем их отдельно\n",
    "for sheet_name, df in sheets.items():\n",
    "    output_file = f\"{sheet_name}.xlsx\"  \n",
    "    df.to_excel(output_file, index=False)\n",
    "    print(f\"✅ Сохранен: {output_file}\")"
   ]
  },
  {
   "cell_type": "code",
   "execution_count": 4,
   "id": "347672e2-46c0-48af-8972-e962ae149caa",
   "metadata": {},
   "outputs": [],
   "source": [
    "import pandas as pd\n",
    "import os"
   ]
  },
  {
   "cell_type": "code",
   "execution_count": 5,
   "id": "0f23e261-aa55-4eaf-9f3a-dba7cda14cfb",
   "metadata": {},
   "outputs": [
    {
     "name": "stdout",
     "output_type": "stream",
     "text": [
      "✅ Сохранено: C:/Users/User/Desktop/Новая папка\\sb_23_01.xlsx\n",
     
      "🎉 Все листы успешно разделены и переименованы!\n"
     ]
    }
   ],
   "source": [
    "excel_file = \"path\"\n",
    "\n",
    "# путь, куда сохранять листы\n",
    "output_dir = \"C:/Users/User/Desktop/Новая папка\"\n",
    "os.makedirs(output_dir, exist_ok=True)\n",
    "\n",
    "# загрузить все листы\n",
    "xls = pd.ExcelFile(excel_file)\n",
    "\n",
    "# словарь для переименования месяцев\n",
    "month_map = {\n",
    "    'январь': '01', 'февраль': '02', 'март': '03', 'апрель': '04',\n",
    "    'май': '05', 'июнь': '06', 'июль': '07', 'август': '08',\n",
    "    'сентябрь': '09', 'октябрь': '10', 'ноябрь': '11', 'декабрь': '12'\n",
    "}\n",
    "\n",
    "for sheet_name in xls.sheet_names:\n",
    "    df = pd.read_excel(excel_file, sheet_name=sheet_name)\n",
    "    \n",
    "    # извлечь месяц и год из названия листа\n",
    "    parts = sheet_name.lower().split()\n",
    "    if len(parts) == 2 and parts[0] in month_map:\n",
    "        month = month_map[parts[0]]\n",
    "        year = parts[1][-2:]  # последние две цифры года\n",
    "        new_name = f\"sb_{year}_{month}.xlsx\"\n",
    "    else:\n",
    "        new_name = f\"{sheet_name}.xlsx\"\n",
    "    \n",
    "    # сохранить файл\n",
    "    output_path = os.path.join(output_dir, new_name)\n",
    "    df.to_excel(output_path, index=False)\n",
    "    print(f\"✅ Сохранено: {output_path}\")\n",
    "\n",
    "print(\"\\n🎉 Все листы успешно разделены и переименованы!\")"
   ]
  },
  {
   "cell_type": "code",
   "execution_count": null,
   "id": "e20f781f-3ee2-4d14-b3e9-2c57cb18997e",
   "metadata": {},
   "outputs": [],
   "source": []
  }
 ],
 "metadata": {
  "kernelspec": {
   "display_name": "Python 3 (ipykernel)",
   "language": "python",
   "name": "python3"
  },
  "language_info": {
   "codemirror_mode": {
    "name": "ipython",
    "version": 3
   },
   "file_extension": ".py",
   "mimetype": "text/x-python",
   "name": "python",
   "nbconvert_exporter": "python",
   "pygments_lexer": "ipython3",
   "version": "3.13.1"
  },
  "widgets": {
   "application/vnd.jupyter.widget-state+json": {
    "state": {},
    "version_major": 2,
    "version_minor": 0
   }
  }
 },
 "nbformat": 4,
 "nbformat_minor": 5
}
